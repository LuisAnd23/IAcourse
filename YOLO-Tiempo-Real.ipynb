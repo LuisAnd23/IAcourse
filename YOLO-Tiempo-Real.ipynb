{
 "cells": [
  {
   "cell_type": "markdown",
   "metadata": {},
   "source": [
    "Author:  \n",
    "Manuel Eugenio Morocho Cayamcela, PhD"
   ]
  },
  {
   "cell_type": "markdown",
   "metadata": {},
   "source": [
    "# YOLO en Tiempo Real: Detección de Objetos\n",
    "\n",
    "En este cuaderno de Jupyter exploraremos la tarea de la detección de objetos en tiempo real utilizando YOLO (You Only Look Once), una técnica avanzada de visión por computadora.\n",
    "\n",
    "Aprenderemos a utilizar YOLO para identificar y localizar diversos objetos en imágenes y secuencias de video. Esta habilidad es esencial en una amplia gama de aplicaciones, desde la conducción autónoma hasta la vigilancia de seguridad, y representa uno de los avances más emocionantes en el campo de la inteligencia artificial y la visión por computadora.\n",
    "\n",
    "A lo largo de este tutorial, explorarás conceptos clave como:\n",
    "\n",
    "- Detección de objetos en tiempo real.\n",
    "- Configuración de modelos YOLO pre-entrenados.\n",
    "- Interpretación de resultados de detección.\n",
    "- Aplicaciones prácticas de la detección de objetos."
   ]
  },
  {
   "cell_type": "markdown",
   "metadata": {},
   "source": [
    "Utilizaremos el comando `!pip` para instalar dos paquetes de Python: `opencv-python` y `ultralytics`.\n",
    "\n",
    "- `opencv-python`: Es un paquete para tareas de visión por computador en Python. Proporciona una variedad de funciones para el procesamiento de imágenes y videos, incluyendo detección de objetos, manipulación de imágenes y extracción de características.\n",
    "\n",
    "- `ultralytics`: Es un paquete construido sobre PyTorch, que se enfoca principalmente en tareas de visión por computadora como detección de objetos y clasificación de imágenes. Proporciona interfaces fáciles de usar para entrenar y evaluar modelos de aprendizaje profundo para estas tareas.\n",
    "\n",
    "Al ejecutar este comando, estás instalando estos paquetes en tu entorno de Python para que puedas usarlos en tu código."
   ]
  },
  {
   "cell_type": "code",
   "execution_count": 1,
   "metadata": {},
   "outputs": [
    {
     "name": "stdout",
     "output_type": "stream",
     "text": [
      "Requirement already satisfied: opencv-python in c:\\users\\luis\\appdata\\local\\programs\\python\\python310\\lib\\site-packages (4.9.0.80)\n",
      "Requirement already satisfied: ultralytics in c:\\users\\luis\\appdata\\local\\programs\\python\\python310\\lib\\site-packages (8.3.121)\n",
      "Requirement already satisfied: numpy>=1.21.2 in c:\\users\\luis\\appdata\\local\\programs\\python\\python310\\lib\\site-packages (from opencv-python) (1.26.3)\n",
      "Requirement already satisfied: matplotlib>=3.3.0 in c:\\users\\luis\\appdata\\local\\programs\\python\\python310\\lib\\site-packages (from ultralytics) (3.9.0)\n",
      "Requirement already satisfied: pillow>=7.1.2 in c:\\users\\luis\\appdata\\local\\programs\\python\\python310\\lib\\site-packages (from ultralytics) (10.3.0)\n",
      "Requirement already satisfied: pyyaml>=5.3.1 in c:\\users\\luis\\appdata\\local\\programs\\python\\python310\\lib\\site-packages (from ultralytics) (6.0.2)\n",
      "Requirement already satisfied: requests>=2.23.0 in c:\\users\\luis\\appdata\\local\\programs\\python\\python310\\lib\\site-packages (from ultralytics) (2.32.3)\n",
      "Requirement already satisfied: scipy>=1.4.1 in c:\\users\\luis\\appdata\\local\\programs\\python\\python310\\lib\\site-packages (from ultralytics) (1.12.0)\n",
      "Requirement already satisfied: torch>=1.8.0 in c:\\users\\luis\\appdata\\local\\programs\\python\\python310\\lib\\site-packages (from ultralytics) (2.7.0)\n",
      "Requirement already satisfied: torchvision>=0.9.0 in c:\\users\\luis\\appdata\\local\\programs\\python\\python310\\lib\\site-packages (from ultralytics) (0.22.0)\n",
      "Requirement already satisfied: tqdm>=4.64.0 in c:\\users\\luis\\appdata\\local\\programs\\python\\python310\\lib\\site-packages (from ultralytics) (4.67.1)\n",
      "Requirement already satisfied: psutil in c:\\users\\luis\\appdata\\roaming\\python\\python310\\site-packages (from ultralytics) (7.0.0)\n",
      "Requirement already satisfied: py-cpuinfo in c:\\users\\luis\\appdata\\local\\programs\\python\\python310\\lib\\site-packages (from ultralytics) (9.0.0)\n",
      "Requirement already satisfied: pandas>=1.1.4 in c:\\users\\luis\\appdata\\local\\programs\\python\\python310\\lib\\site-packages (from ultralytics) (2.2.2)\n",
      "Requirement already satisfied: seaborn>=0.11.0 in c:\\users\\luis\\appdata\\local\\programs\\python\\python310\\lib\\site-packages (from ultralytics) (0.13.2)\n",
      "Requirement already satisfied: ultralytics-thop>=2.0.0 in c:\\users\\luis\\appdata\\local\\programs\\python\\python310\\lib\\site-packages (from ultralytics) (2.0.14)\n",
      "Requirement already satisfied: contourpy>=1.0.1 in c:\\users\\luis\\appdata\\local\\programs\\python\\python310\\lib\\site-packages (from matplotlib>=3.3.0->ultralytics) (1.2.1)\n",
      "Requirement already satisfied: cycler>=0.10 in c:\\users\\luis\\appdata\\local\\programs\\python\\python310\\lib\\site-packages (from matplotlib>=3.3.0->ultralytics) (0.12.1)\n",
      "Requirement already satisfied: fonttools>=4.22.0 in c:\\users\\luis\\appdata\\local\\programs\\python\\python310\\lib\\site-packages (from matplotlib>=3.3.0->ultralytics) (4.51.0)\n",
      "Requirement already satisfied: kiwisolver>=1.3.1 in c:\\users\\luis\\appdata\\local\\programs\\python\\python310\\lib\\site-packages (from matplotlib>=3.3.0->ultralytics) (1.4.5)\n",
      "Requirement already satisfied: packaging>=20.0 in c:\\users\\luis\\appdata\\local\\programs\\python\\python310\\lib\\site-packages (from matplotlib>=3.3.0->ultralytics) (24.0)\n",
      "Requirement already satisfied: pyparsing>=2.3.1 in c:\\users\\luis\\appdata\\local\\programs\\python\\python310\\lib\\site-packages (from matplotlib>=3.3.0->ultralytics) (3.1.2)\n",
      "Requirement already satisfied: python-dateutil>=2.7 in c:\\users\\luis\\appdata\\local\\programs\\python\\python310\\lib\\site-packages (from matplotlib>=3.3.0->ultralytics) (2.9.0.post0)\n",
      "Requirement already satisfied: pytz>=2020.1 in c:\\users\\luis\\appdata\\local\\programs\\python\\python310\\lib\\site-packages (from pandas>=1.1.4->ultralytics) (2024.1)\n",
      "Requirement already satisfied: tzdata>=2022.7 in c:\\users\\luis\\appdata\\local\\programs\\python\\python310\\lib\\site-packages (from pandas>=1.1.4->ultralytics) (2023.4)\n",
      "Requirement already satisfied: charset-normalizer<4,>=2 in c:\\users\\luis\\appdata\\local\\programs\\python\\python310\\lib\\site-packages (from requests>=2.23.0->ultralytics) (3.4.1)\n",
      "Requirement already satisfied: idna<4,>=2.5 in c:\\users\\luis\\appdata\\local\\programs\\python\\python310\\lib\\site-packages (from requests>=2.23.0->ultralytics) (3.10)\n",
      "Requirement already satisfied: urllib3<3,>=1.21.1 in c:\\users\\luis\\appdata\\local\\programs\\python\\python310\\lib\\site-packages (from requests>=2.23.0->ultralytics) (2.3.0)\n",
      "Requirement already satisfied: certifi>=2017.4.17 in c:\\users\\luis\\appdata\\local\\programs\\python\\python310\\lib\\site-packages (from requests>=2.23.0->ultralytics) (2025.1.31)\n",
      "Requirement already satisfied: filelock in c:\\users\\luis\\appdata\\local\\programs\\python\\python310\\lib\\site-packages (from torch>=1.8.0->ultralytics) (3.13.1)\n",
      "Requirement already satisfied: typing-extensions>=4.10.0 in c:\\users\\luis\\appdata\\local\\programs\\python\\python310\\lib\\site-packages (from torch>=1.8.0->ultralytics) (4.13.2)\n",
      "Requirement already satisfied: sympy>=1.13.3 in c:\\users\\luis\\appdata\\local\\programs\\python\\python310\\lib\\site-packages (from torch>=1.8.0->ultralytics) (1.14.0)\n",
      "Requirement already satisfied: networkx in c:\\users\\luis\\appdata\\local\\programs\\python\\python310\\lib\\site-packages (from torch>=1.8.0->ultralytics) (3.4.2)\n",
      "Requirement already satisfied: jinja2 in c:\\users\\luis\\appdata\\local\\programs\\python\\python310\\lib\\site-packages (from torch>=1.8.0->ultralytics) (3.1.6)\n",
      "Requirement already satisfied: fsspec in c:\\users\\luis\\appdata\\local\\programs\\python\\python310\\lib\\site-packages (from torch>=1.8.0->ultralytics) (2025.3.2)\n",
      "Requirement already satisfied: colorama in c:\\users\\luis\\appdata\\local\\programs\\python\\python310\\lib\\site-packages (from tqdm>=4.64.0->ultralytics) (0.4.6)\n",
      "Requirement already satisfied: six>=1.5 in c:\\users\\luis\\appdata\\local\\programs\\python\\python310\\lib\\site-packages (from python-dateutil>=2.7->matplotlib>=3.3.0->ultralytics) (1.16.0)\n",
      "Requirement already satisfied: mpmath<1.4,>=1.1.0 in c:\\users\\luis\\appdata\\local\\programs\\python\\python310\\lib\\site-packages (from sympy>=1.13.3->torch>=1.8.0->ultralytics) (1.3.0)\n",
      "Requirement already satisfied: MarkupSafe>=2.0 in c:\\users\\luis\\appdata\\local\\programs\\python\\python310\\lib\\site-packages (from jinja2->torch>=1.8.0->ultralytics) (3.0.2)\n",
      "Note: you may need to restart the kernel to use updated packages.\n"
     ]
    },
    {
     "name": "stderr",
     "output_type": "stream",
     "text": [
      "\n",
      "[notice] A new release of pip is available: 25.0.1 -> 25.1\n",
      "[notice] To update, run: python.exe -m pip install --upgrade pip\n"
     ]
    }
   ],
   "source": [
    "# Instalamos las librerías necesarias\n",
    "%pip install opencv-python ultralytics"
   ]
  },
  {
   "cell_type": "markdown",
   "metadata": {},
   "source": [
    "Importamos las siguientes bibliotecas en Python:\n",
    "\n",
    "1. `ultralytics`: Esta es una biblioteca que proporciona una interfaz para usar modelos de detección de objetos YOLO (You Only Look Once). Permite entrenar, evaluar y utilizar modelos de detección de objetos de manera eficiente.\n",
    "\n",
    "2. `cv2` (OpenCV): Esta es una biblioteca popular para el procesamiento de imágenes y videos en Python. Proporciona una amplia gama de funciones para trabajar con imágenes y videos, incluyendo cargar imágenes, realizar operaciones de procesamiento de imágenes, y mostrar imágenes en una ventana, entre otros.\n",
    "\n",
    "3. `math`: Este es un módulo estándar de Python que proporciona funciones matemáticas comunes, como funciones trigonométricas, logarítmicas y aritméticas."
   ]
  },
  {
   "cell_type": "code",
   "execution_count": 1,
   "metadata": {},
   "outputs": [],
   "source": [
    "# Importamos las librerías necesarias\n",
    "from ultralytics import YOLO\n",
    "import cv2\n",
    "import math\n",
    "\n"
   ]
  },
  {
   "cell_type": "markdown",
   "metadata": {},
   "source": [
    "Para este tutorial, usaremos un modelo de YOLO preentrenado en una base de datos que contiene imagenes con sus respectivas cordenadas de cuadros delimitadores y etiquetas por cada objeto. La base de datos con la que el modelo fue preentrenado es COCO de Microsoft."
   ]
  },
  {
   "cell_type": "code",
   "execution_count": 2,
   "metadata": {},
   "outputs": [],
   "source": [
    "# Cargamos el modelo YOLO pre-entrenado en COCO dataset\n",
    "model = YOLO(\"yolo-Weights/yolov8n.pt\")"
   ]
  },
  {
   "cell_type": "code",
   "execution_count": 3,
   "metadata": {},
   "outputs": [
    {
     "data": {
      "text/plain": [
       "{0: 'person',\n",
       " 1: 'bicycle',\n",
       " 2: 'car',\n",
       " 3: 'motorcycle',\n",
       " 4: 'airplane',\n",
       " 5: 'bus',\n",
       " 6: 'train',\n",
       " 7: 'truck',\n",
       " 8: 'boat',\n",
       " 9: 'traffic light',\n",
       " 10: 'fire hydrant',\n",
       " 11: 'stop sign',\n",
       " 12: 'parking meter',\n",
       " 13: 'bench',\n",
       " 14: 'bird',\n",
       " 15: 'cat',\n",
       " 16: 'dog',\n",
       " 17: 'horse',\n",
       " 18: 'sheep',\n",
       " 19: 'cow',\n",
       " 20: 'elephant',\n",
       " 21: 'bear',\n",
       " 22: 'zebra',\n",
       " 23: 'giraffe',\n",
       " 24: 'backpack',\n",
       " 25: 'umbrella',\n",
       " 26: 'handbag',\n",
       " 27: 'tie',\n",
       " 28: 'suitcase',\n",
       " 29: 'frisbee',\n",
       " 30: 'skis',\n",
       " 31: 'snowboard',\n",
       " 32: 'sports ball',\n",
       " 33: 'kite',\n",
       " 34: 'baseball bat',\n",
       " 35: 'baseball glove',\n",
       " 36: 'skateboard',\n",
       " 37: 'surfboard',\n",
       " 38: 'tennis racket',\n",
       " 39: 'bottle',\n",
       " 40: 'wine glass',\n",
       " 41: 'cup',\n",
       " 42: 'fork',\n",
       " 43: 'knife',\n",
       " 44: 'spoon',\n",
       " 45: 'bowl',\n",
       " 46: 'banana',\n",
       " 47: 'apple',\n",
       " 48: 'sandwich',\n",
       " 49: 'orange',\n",
       " 50: 'broccoli',\n",
       " 51: 'carrot',\n",
       " 52: 'hot dog',\n",
       " 53: 'pizza',\n",
       " 54: 'donut',\n",
       " 55: 'cake',\n",
       " 56: 'chair',\n",
       " 57: 'couch',\n",
       " 58: 'potted plant',\n",
       " 59: 'bed',\n",
       " 60: 'dining table',\n",
       " 61: 'toilet',\n",
       " 62: 'tv',\n",
       " 63: 'laptop',\n",
       " 64: 'mouse',\n",
       " 65: 'remote',\n",
       " 66: 'keyboard',\n",
       " 67: 'cell phone',\n",
       " 68: 'microwave',\n",
       " 69: 'oven',\n",
       " 70: 'toaster',\n",
       " 71: 'sink',\n",
       " 72: 'refrigerator',\n",
       " 73: 'book',\n",
       " 74: 'clock',\n",
       " 75: 'vase',\n",
       " 76: 'scissors',\n",
       " 77: 'teddy bear',\n",
       " 78: 'hair drier',\n",
       " 79: 'toothbrush'}"
      ]
     },
     "execution_count": 3,
     "metadata": {},
     "output_type": "execute_result"
    }
   ],
   "source": [
    "# Revisamos las clases que puede detectar el modelo\n",
    "model.names # Mostramos las clases de los billetes   "
   ]
  },
  {
   "cell_type": "code",
   "execution_count": 4,
   "metadata": {},
   "outputs": [],
   "source": [
    "# Definimos una lista de nombres con todas las clases para identificar objetos detectados\n",
    "classNames = [\"person\", \"bicycle\", \"car\", \"motorbike\", \"aeroplane\", \"bus\", \"train\", \"truck\", \"boat\",\n",
    "              \"traffic light\", \"fire hydrant\", \"stop sign\", \"parking meter\", \"bench\", \"bird\", \"cat\",\n",
    "              \"dog\", \"horse\", \"sheep\", \"cow\", \"elephant\", \"bear\", \"zebra\", \"giraffe\", \"backpack\", \"umbrella\",\n",
    "              \"handbag\", \"tie\", \"suitcase\", \"frisbee\", \"skis\", \"snowboard\", \"sports ball\", \"kite\", \"baseball bat\",\n",
    "              \"baseball glove\", \"skateboard\", \"surfboard\", \"tennis racket\", \"bottle\", \"wine glass\", \"cup\",\n",
    "              \"fork\", \"knife\", \"spoon\", \"bowl\", \"banana\", \"apple\", \"sandwich\", \"orange\", \"broccoli\",\n",
    "              \"carrot\", \"hot dog\", \"pizza\", \"donut\", \"cake\", \"chair\", \"sofa\", \"pottedplant\", \"bed\",\n",
    "              \"diningtable\", \"toilet\", \"tvmonitor\", \"laptop\", \"mouse\", \"remote\", \"keyboard\", \"cell phone\",\n",
    "              \"microwave\", \"oven\", \"toaster\", \"sink\", \"refrigerator\", \"book\", \"clock\", \"vase\", \"scissors\",\n",
    "              \"teddy bear\", \"hair drier\", \"toothbrush\" \n",
    "              ] # Aquí se enumeran todas las clases"
   ]
  },
  {
   "cell_type": "code",
   "execution_count": 40,
   "metadata": {},
   "outputs": [
    {
     "ename": "KeyboardInterrupt",
     "evalue": "",
     "output_type": "error",
     "traceback": [
      "\u001b[1;31m---------------------------------------------------------------------------\u001b[0m",
      "\u001b[1;31mKeyboardInterrupt\u001b[0m                         Traceback (most recent call last)",
      "Cell \u001b[1;32mIn[40], line 2\u001b[0m\n\u001b[0;32m      1\u001b[0m \u001b[38;5;66;03m# Configuramos la captura de video desde la cámara\u001b[39;00m\n\u001b[1;32m----> 2\u001b[0m captura \u001b[38;5;241m=\u001b[39m \u001b[43mcv2\u001b[49m\u001b[38;5;241;43m.\u001b[39;49m\u001b[43mVideoCapture\u001b[49m\u001b[43m(\u001b[49m\u001b[38;5;241;43m0\u001b[39;49m\u001b[43m)\u001b[49m \u001b[38;5;66;03m# Se abre la cámara por defecto\u001b[39;00m\n\u001b[0;32m      4\u001b[0m \u001b[38;5;66;03m# Establecemos el ancho y alto de la imagen\u001b[39;00m\n\u001b[0;32m      5\u001b[0m captura\u001b[38;5;241m.\u001b[39mset(cv2\u001b[38;5;241m.\u001b[39mCAP_PROP_FRAME_WIDTH, \u001b[38;5;241m640\u001b[39m) \u001b[38;5;66;03m# Ancho de la imagen\u001b[39;00m\n",
      "\u001b[1;31mKeyboardInterrupt\u001b[0m: "
     ]
    }
   ],
   "source": [
    "# Configuramos la captura de video desde la cámara\n",
    "captura = cv2.VideoCapture(0) # Se abre la cámara por defecto\n",
    "\n",
    "# Establecemos el ancho y alto de la imagen\n",
    "captura.set(cv2.CAP_PROP_FRAME_WIDTH, 640) # Ancho de la imagen\n",
    "captura.set(cv2.CAP_PROP_FRAME_HEIGHT, 480) # Alto de la imagen\n",
    "\n",
    "# Iniciamos un bucle para procesar los fotogramas de la cámara\n",
    "while True:\n",
    "    success, img = captura.read() # Capturamos un fotograma\n",
    "\n",
    "    # Realizamos la detección de objetos en la imagen capturada (usando el modelo de YOLO pre-entrenado que cargamos anteriormente)\n",
    "    results = model(img, stream=True)\n",
    "\n",
    "   # Procesamos los resultados de la detección\n",
    "    for r in results:\n",
    "        boxes = r.boxes\n",
    "\n",
    "        # Iteramos sobre las cajas delimitadoras detectadas\n",
    "        for box in boxes:\n",
    "            # Obtenemos las coordenadas de la caja delimitadora\n",
    "            x1, y1, x2, y2 = box.xyxy[0]\n",
    "            x1, y1, x2, y2 = int(x1), int(y1), int(x2), int(y2) # Convertimos a valores enteros\n",
    "\n",
    "            # Dibujamos la caja delimitadora en la imagen\n",
    "            cv2.rectangle(img, (x1, y1), (x2, y2), (255, 0, 255), 1)\n",
    "\n",
    "            # Obtenemos la confianza de la detección\n",
    "            confidence = math.ceil((box.conf[0]*100))/100\n",
    "            print(\"Confidence --->\",confidence)\n",
    "\n",
    "            # Obtenemos el nombre de la clase detectada\n",
    "            cls = int(box.cls[0])\n",
    "            print(\"Class name -->\", classNames[cls])\n",
    "\n",
    "            # Mostramos el nombre de la clase junto a la caja delimitadora\n",
    "            org = [x1, y1]\n",
    "            font = cv2.FONT_HERSHEY_SIMPLEX\n",
    "            fontScale = 1\n",
    "            color = (255, 0, 0) # Color: Azul (formato BGR)\n",
    "            thickness = 1\n",
    "            cv2.putText(img, classNames[cls], org, font, fontScale, color, thickness)\n",
    "\n",
    "    # Mostramos la imagen con las detecciones\n",
    "    cv2.imshow('Webcam', img)\n",
    "\n",
    "    # Salimos del bucle si se presiona la tecla 'q'\n",
    "    #if cv2.waitKey(1) == ord('q'):\n",
    "    if cv2.waitKey(10) & 0xFF == ord('q'):\n",
    "        break\n",
    "\n",
    "# Liberamos la cámara y cerramos todas las ventanas\n",
    "captura.release()\n",
    "cv2.destroyAllWindows()"
   ]
  },
  {
   "cell_type": "markdown",
   "metadata": {},
   "source": [
    "# 🧠 Tarea: Despliegue del Sistema YOLOv8 en Jetson Nano 2GB\n",
    "\n",
    "## 📌 Objetivo\n",
    "\n",
    "Implementar un sistema de detección en tiempo real utilizando YOLOv8 en una Jetson Nano 2GB conectada a la misma red local, con una cámara web USB.\n",
    "\n",
    "---\n",
    "\n",
    "## 🔐 Acceso a la Jetson Nano\n",
    "\n",
    "Se les proporcionará:\n",
    "- Nombre de usuario\n",
    "- Dirección IP de la Jetson Nano\n",
    "- Contraseña\n",
    "\n",
    "Usen la terminal de su computador para conectarse:\n",
    "\n",
    "```bash\n",
    "ssh usuario@ip_de_jetson"
   ]
  },
  {
   "cell_type": "markdown",
   "metadata": {},
   "source": [
    "# 📂 Opción 1: Carrera de Matemática\n",
    "\n",
    "Clonar su repositorio desde GitHub y ejecutar el sistema directamente en la Jetson Nano.\n",
    "\n",
    "✅ Pasos:\n",
    "\n",
    "### 1. Clonar el repositorio\n",
    "git clone https://github.com/usuario/repositorio.git\n",
    "\n",
    "### 2. Acceder al directorio del proyecto\n",
    "cd repositorio\n",
    "\n",
    "### 3. Crear entorno virtual e instalar dependencias\n",
    "python3 -m venv env\n",
    "source env/bin/activate\n",
    "pip install -r requirements.txt\n",
    "\n",
    "### 4. Ejecutar el sistema\n",
    "python YOLO-Tiempo-Real.py\n"
   ]
  },
  {
   "cell_type": "code",
   "execution_count": 2,
   "metadata": {},
   "outputs": [
    {
     "name": "stdout",
     "output_type": "stream",
     "text": [
      "Requirement already satisfied: icrawler in c:\\users\\luis\\appdata\\local\\programs\\python\\python310\\lib\\site-packages (0.6.10)\n",
      "Requirement already satisfied: beautifulsoup4 in c:\\users\\luis\\appdata\\local\\programs\\python\\python310\\lib\\site-packages (from icrawler) (4.13.4)\n",
      "Requirement already satisfied: bs4 in c:\\users\\luis\\appdata\\local\\programs\\python\\python310\\lib\\site-packages (from icrawler) (0.0.2)\n",
      "Requirement already satisfied: lxml in c:\\users\\luis\\appdata\\local\\programs\\python\\python310\\lib\\site-packages (from icrawler) (5.4.0)\n",
      "Requirement already satisfied: pillow in c:\\users\\luis\\appdata\\local\\programs\\python\\python310\\lib\\site-packages (from icrawler) (10.3.0)\n",
      "Requirement already satisfied: pyyaml in c:\\users\\luis\\appdata\\local\\programs\\python\\python310\\lib\\site-packages (from icrawler) (6.0.2)\n",
      "Requirement already satisfied: requests in c:\\users\\luis\\appdata\\local\\programs\\python\\python310\\lib\\site-packages (from icrawler) (2.32.3)\n",
      "Requirement already satisfied: six in c:\\users\\luis\\appdata\\local\\programs\\python\\python310\\lib\\site-packages (from icrawler) (1.16.0)\n",
      "Requirement already satisfied: soupsieve>1.2 in c:\\users\\luis\\appdata\\local\\programs\\python\\python310\\lib\\site-packages (from beautifulsoup4->icrawler) (2.7)\n",
      "Requirement already satisfied: typing-extensions>=4.0.0 in c:\\users\\luis\\appdata\\local\\programs\\python\\python310\\lib\\site-packages (from beautifulsoup4->icrawler) (4.13.2)\n",
      "Requirement already satisfied: charset-normalizer<4,>=2 in c:\\users\\luis\\appdata\\local\\programs\\python\\python310\\lib\\site-packages (from requests->icrawler) (3.4.1)\n",
      "Requirement already satisfied: idna<4,>=2.5 in c:\\users\\luis\\appdata\\local\\programs\\python\\python310\\lib\\site-packages (from requests->icrawler) (3.10)\n",
      "Requirement already satisfied: urllib3<3,>=1.21.1 in c:\\users\\luis\\appdata\\local\\programs\\python\\python310\\lib\\site-packages (from requests->icrawler) (2.3.0)\n",
      "Requirement already satisfied: certifi>=2017.4.17 in c:\\users\\luis\\appdata\\local\\programs\\python\\python310\\lib\\site-packages (from requests->icrawler) (2025.1.31)\n",
      "Note: you may need to restart the kernel to use updated packages.\n"
     ]
    },
    {
     "name": "stderr",
     "output_type": "stream",
     "text": [
      "\n",
      "[notice] A new release of pip is available: 25.0.1 -> 25.1\n",
      "[notice] To update, run: python.exe -m pip install --upgrade pip\n"
     ]
    }
   ],
   "source": [
    "%pip install icrawler\n"
   ]
  },
  {
   "cell_type": "markdown",
   "metadata": {},
   "source": [
    "# 📦 Opción 2: Carrera de Ciencias Computacionales\n",
    "\n",
    "Desplegar el sistema dentro de un contenedor Docker.\n",
    "\n",
    "✅ Crear un archivo Dockerfile en el repositorio:"
   ]
  },
  {
   "cell_type": "markdown",
   "metadata": {},
   "source": [
    "### Dockerfile\n",
    "FROM nvcr.io/nvidia/l4t-pytorch:r32.7.1-pth1.11-py3\n",
    "RUN apt-get update && apt-get install -y python3-pip libopencv-dev\n",
    "RUN pip3 install ultralytics opencv-python\n",
    "\n",
    "COPY . /app\n",
    "WORKDIR /app\n",
    "\n",
    "CMD [\"python3\", \"YOLO-Tiempo-Real.py\"]"
   ]
  },
  {
   "cell_type": "markdown",
   "metadata": {},
   "source": [
    "## 🐳 Pasos para construir y ejecutar:\n",
    "\n",
    "### 1. Clonar su repositorio\n",
    "git clone https://github.com/usuario/repositorio.git\n",
    "cd repositorio\n",
    "\n",
    "### 2. Construir la imagen Docker\n",
    "sudo docker build -t yolov8-detector .\n",
    "\n",
    "### 3. Ejecutar el contenedor\n",
    "sudo docker run --rm -it --net=host --device=/dev/video0 yolov8-detector"
   ]
  },
  {
   "cell_type": "markdown",
   "metadata": {},
   "source": [
    "# 📝 Entregable\n",
    "\n",
    "- Confirmación de funcionamiento con captura de pantalla o foto del sistema en ejecución.\n",
    "- Código actualizado y funcional en su repositorio de GitHub."
   ]
  }
 ],
 "metadata": {
  "kernelspec": {
   "display_name": "Python 3",
   "language": "python",
   "name": "python3"
  },
  "language_info": {
   "codemirror_mode": {
    "name": "ipython",
    "version": 3
   },
   "file_extension": ".py",
   "mimetype": "text/x-python",
   "name": "python",
   "nbconvert_exporter": "python",
   "pygments_lexer": "ipython3",
   "version": "3.10.2"
  }
 },
 "nbformat": 4,
 "nbformat_minor": 2
}
